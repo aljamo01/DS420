{
 "cells": [
  {
   "cell_type": "markdown",
   "metadata": {},
   "source": [
    "\n",
    "# Machine Learning - Spring 2018\n",
    "\n",
    "> Brad Miller <br />\n",
    "> Olin 321 <br />\n",
    "> bmiller@luther.edu <br />\n",
    "> Office Hours: 9:30 -- 10:30 Tues, Wed, Thurs.  By Appointment, [Use my Calendar](https://calendar.google.com/calendar/embed?mode=WEEK&src=millbr02%40luther.edu&ctz=America/Chicago)  Do not email me to ask when I can meet, use the calendar. <br />\n",
    "> Slack Channel:  I'll use this to post hints and screen captures of notes.  Using your norsekey [signup for slack](https://luthercs.slack.com/signup)\n",
    "\n",
    "## Disclaimer\n",
    "\n",
    "Although machine learning is a topic that I have been interested in since I was a Luther student, my original Sr. Paper topic was Boltzman Machines,  I am hardly an expert.  It would be a full time job just to keep up with the developments in this very fast moving field.  But I'm happy to model lifelong learning and figure out questions with you.\n",
    "\n",
    "\n",
    "## Goals\n",
    "\n",
    "  \n",
    "* Explore tools and algorithms for machine learning through hands-on projects using widely used tools for data science.\n",
    "  * Pandas\n",
    "  * Matplotlib and other plotting packages\n",
    "  * scikit-learn - know what and when to apply at least the following models\n",
    "      * regression linear, non-linear, multiple\n",
    "      * Feature Extraction\n",
    "      * neural networks (perceptron others)\n",
    "      * Bayesian Learning\n",
    "      * Support Vector Machines\n",
    "      * Clustering \n",
    "      * Principle Components Analysis\n",
    "      * Logistic Regression\n",
    "      * Random Forest\n",
    "  * Keras and other interfaces to TensorFlow\n",
    "  * Google's Tensor Flow - Neural Networks\n",
    "\n",
    "\n",
    "* Understand how we can measure the effectiveness of models/algorithms\n",
    "  \n",
    "\n",
    "## Approach\n",
    "\n",
    "This course is a project/data based.  If you took 320 last semester then this format should feel familiar.  I got enough positive feedback on that approach that I'm going to do it for this class as well.  For those who took 320 last year or who have not taken 320 then just know that the course is structured around data sets and applying machine learning algorithms to that data set.  \n",
    "\n",
    "1. Getting started by predicting whether mushrooms are edible or poisonous.\n",
    "2. Handwriting recognition\n",
    "3. Object Image recognition in images\n",
    "4. Develop a simple chat-bot\n",
    "4. I'd like to add in some work with sound\n",
    "5. facial recognition with convolutional neural networks\n",
    "\n",
    "We will start by reviewing the tools for visualization and summarization so that we can find ways to visualize and get an overview of the various data sets.  Next we will look at using the machine learning components supplied by scikit-learn.  As we go along and explore the various algorithms we will try to understand how they work without going on super detailed mathematical excursions.\n",
    "\n",
    "\n",
    "\n",
    "## Resources\n",
    "\n",
    "**Strongly Suggested Text** Hands on Machine Learning with Scikit-Learn & Tensor Flow.  Available in eBook format from the [O'Reilly Website](http://shop.oreilly.com/product/0636920052289.do) or in Paper form from online bookstores. As an eBook its available for iBooks, Kindle, and as a PDF. You will get updates and the final version when it is released.\n",
    "\n",
    "* This book is meant for hands on learning!\n",
    "* Other than Chapter 2 I will not simply redo the examples from the book.  I'll find other data sets. (or you can suggest) and we will work through those other examples in class.\n",
    "\n",
    "  * Seeing something more than once is good.\n",
    "  * Seeing two different examples of the same concept is even better\n",
    "  \n",
    "\n",
    "Another nice book, which I will likely refer sometimes with respect to the machine learning algorithms is *Mastering Machine Learning with Sci-kit Learn*  Its short and to the point, without getting bogged down in the math.\n",
    "\n",
    "I will also be referencing a number of tutorials and/or posts online that do case studies of particular machine learning problems.\n",
    "\n",
    "I have set up a [Jupyter server](https://knuth.luther.edu:8443) on knuth.  You can access the server by clicking on the link and logging in with your regular NorseKey and Password. This allows you to have a private copy of any of the projects we work on in the course using knuth as your compute server.   You may also choose to setup your own Jupyter notebook environment.  I have put a requirements.txt file on github you can install all of the packages you need using `pip install -r requirements.txt`  But it is really much simpler to install [Anaconda](https://www.continuum.io/anaconda-overview). It is a full distribution of Python with \"Batteries Included.\"  Essentially everything you need for this course will come as part of the download.  Personally I've switched my personal machine over to Anaconda for almost everything.\n",
    "\n",
    "I have created a [github repository](https://github.com/bnmnetp/CS420) so that you can clone it and get examples and class notes.\n",
    "\n",
    "## Grading and Assignments\n",
    "\n",
    "I will (reluctantly) be returning to using Katie, at least for posting grades.  The github classroom experiment last semester was only moderately successful, but it provides a nice way to turn in notebooks.\n",
    "\n",
    "We will have regular homework assignments as well as many in-class labs.  Towards the end of the semester I am hoping we can do a larger project.\n",
    "\n",
    "* Assignments\n",
    "* Response writings.  For some days I'll assign a current article and we'll discuss.  You will write a short response paper prior to class.\n",
    "* MidTerm Project - A project where you will chose some data, train a ML algorithm, and present results.\n",
    "* Final Project - Like the mid-term but more advanced.  You will present a poster of your results at the spring research symposium.\n",
    "* Quizzes -- Hint: Good quiz fodder in exercises at the end of each chapter\n",
    "* Participation\n",
    "\n",
    "\n",
    "## Writing Lab\n",
    "\n",
    "This class is eligible for the writing lab component of the CS major.  If you want to use this course for the writing lab you must get my permission and register for the lab before the second seven weeks of the semester.\n"
   ]
  },
  {
   "cell_type": "markdown",
   "metadata": {},
   "source": [
    "\n"
   ]
  },
  {
   "cell_type": "code",
   "execution_count": 2,
   "metadata": {
    "collapsed": false
   },
   "outputs": [
    {
     "data": {
      "text/plain": [
       "4"
      ]
     },
     "execution_count": 2,
     "metadata": {},
     "output_type": "execute_result"
    }
   ],
   "source": [
    "2+2"
   ]
  },
  {
   "cell_type": "code",
   "execution_count": 3,
   "metadata": {
    "collapsed": true
   },
   "outputs": [],
   "source": [
    "a = 10"
   ]
  },
  {
   "cell_type": "code",
   "execution_count": 4,
   "metadata": {
    "collapsed": false
   },
   "outputs": [
    {
     "data": {
      "text/plain": [
       "1000"
      ]
     },
     "execution_count": 4,
     "metadata": {},
     "output_type": "execute_result"
    }
   ],
   "source": [
    "a * 100"
   ]
  }
 ],
 "metadata": {
  "kernelspec": {
   "display_name": "Python 3",
   "language": "python",
   "name": "python3"
  },
  "language_info": {
   "codemirror_mode": {
    "name": "ipython",
    "version": 3
   },
   "file_extension": ".py",
   "mimetype": "text/x-python",
   "name": "python",
   "nbconvert_exporter": "python",
   "pygments_lexer": "ipython3",
   "version": "3.6.4"
  }
 },
 "nbformat": 4,
 "nbformat_minor": 2
}
