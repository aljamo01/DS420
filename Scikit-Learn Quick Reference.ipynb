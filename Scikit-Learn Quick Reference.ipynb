{
 "cells": [
  {
   "cell_type": "markdown",
   "metadata": {},
   "source": [
    "# Scikit-Learn Quick Reference for DS-420\n",
    "\n",
    "I'll do my best to collect and publish the various sklearn objects and methods we use in class here.  If I miss something or you can clarify something, please feel free to make a PR.\n",
    "\n",
    "Keep in mind that most things in sklearn have a consistent interface:\n",
    "\n",
    "* fit\n",
    "* transform\n",
    "* fit_transform\n",
    "* predict\n",
    "* score\n"
   ]
  },
  {
   "cell_type": "markdown",
   "metadata": {},
   "source": [
    "## Basic Imports\n",
    "\n",
    "There are quite a few imports that we need to get everything loaded into our notebooks.  Below is a cell that you can copy and paste into a notebook to get going."
   ]
  },
  {
   "cell_type": "code",
   "execution_count": 1,
   "metadata": {},
   "outputs": [],
   "source": [
    "import pandas as pd\n",
    "import numpy as np\n",
    "import altair as alt\n",
    "import seaborn as sns\n",
    "import math\n",
    "\n",
    "from mpl_toolkits.mplot3d import Axes3D\n",
    "from matplotlib import pyplot as plt\n",
    "\n",
    "from sklearn.preprocessing import LabelEncoder\n",
    "from sklearn.pipeline import Pipeline\n",
    "from sklearn.decomposition import PCA\n",
    "from sklearn.model_selection import train_test_split\n",
    "from sklearn.cluster import KMeans\n"
   ]
  },
  {
   "cell_type": "markdown",
   "metadata": {},
   "source": [
    "## Preprocessing\n",
    "\n",
    "Functions used during data cleaning and preparation \n",
    "\n",
    "### LabelEncoder\n",
    "\n",
    "The label Encoder works on a column and re-maps the names in the column to numbers.\n",
    "\n",
    "    labelencoder=LabelEncoder()\n",
    "    labelencoder.fit(data.odor)\n",
    "    labelencoder.classes_\n",
    "    labelencoder.transform(data.odor)\n",
    "    \n",
    "The `fit` method takes the column and creates an internal mapping (dictionary) from name to number.\n",
    "\n",
    "The `transform` method takes that same column and returns the numbers.\n",
    "\n",
    "The `fit_transform` method simply combines both steps into one."
   ]
  },
  {
   "cell_type": "code",
   "execution_count": 5,
   "metadata": {},
   "outputs": [
    {
     "name": "stdout",
     "output_type": "stream",
     "text": [
      "['a' 'b' 'c']\n"
     ]
    },
    {
     "data": {
      "text/plain": [
       "array([0, 1, 2])"
      ]
     },
     "execution_count": 5,
     "metadata": {},
     "output_type": "execute_result"
    }
   ],
   "source": [
    "le = LabelEncoder()\n",
    "le.fit(['a','b','c'])\n",
    "print(le.classes_)\n",
    "le.transform(['a','b','c'])"
   ]
  },
  {
   "cell_type": "markdown",
   "metadata": {},
   "source": [
    "### OneHotEncoder\n",
    "\n",
    "More on this soon"
   ]
  },
  {
   "cell_type": "markdown",
   "metadata": {},
   "source": [
    "## Unsupervised Learning\n",
    "\n",
    "### Principal Components Analysis\n",
    "\n",
    "This is a [really nice visualization](http://setosa.io/ev/principal-component-analysis/)\n",
    "\n",
    "    pca = PCA(n_components=2)\n",
    "    x = pca.fit_transform(data)\n",
    "    \n"
   ]
  },
  {
   "cell_type": "code",
   "execution_count": null,
   "metadata": {},
   "outputs": [],
   "source": []
  }
 ],
 "metadata": {
  "kernelspec": {
   "display_name": "Python 3",
   "language": "python",
   "name": "python3"
  },
  "language_info": {
   "codemirror_mode": {
    "name": "ipython",
    "version": 3
   },
   "file_extension": ".py",
   "mimetype": "text/x-python",
   "name": "python",
   "nbconvert_exporter": "python",
   "pygments_lexer": "ipython3",
   "version": "3.5.1"
  }
 },
 "nbformat": 4,
 "nbformat_minor": 2
}
