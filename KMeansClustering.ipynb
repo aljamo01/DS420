{
 "cells": [
  {
   "cell_type": "markdown",
   "metadata": {},
   "source": [
    "\n",
    "# K-Means Clustering"
   ]
  },
  {
   "cell_type": "code",
   "execution_count": 2,
   "metadata": {
    "collapsed": false
   },
   "outputs": [
    {
     "name": "stdout",
     "output_type": "stream",
     "text": [
      "[(11, 6), (16, 21), (1, 20), (10, 5), (19, 23), (6, 20), (6, 10), (20, 23), (7, 15), (9, 5), (21, 20), (4, 16), (7, 8), (19, 20), (4, 19), (6, 5), (20, 23), (1, 15), (6, 9), (20, 25), (3, 19), (10, 10), (15, 23), (3, 17), (11, 9), (16, 21), (7, 17), (9, 10), (19, 20), (4, 18)]\n"
     ]
    },
    {
     "data": {
      "image/png": "[encoded data removed]",
      "text/plain": [
       "<matplotlib.figure.Figure at 0x7f48e4981e80>"
      ]
     },
     "metadata": {},
     "output_type": "display_data"
    }
   ],
   "source": [
    "%matplotlib inline\n",
    "import random\n",
    "import matplotlib.pyplot as plt\n",
    "import math\n",
    "\n",
    "cents = [(5,5), (15,20), (1,15)]\n",
    "points = []\n",
    "for i in range(10):\n",
    "    for c in cents:\n",
    "        points.append(tuple([c[0]+random.randrange(7),c[1]+random.randrange(7)]))\n",
    "\n",
    "print(points)\n",
    "\n",
    "plt.scatter([x[0] for x in points],[x[1] for x in points])\n",
    "plt.show()"
   ]
  },
  {
   "cell_type": "code",
   "execution_count": 8,
   "metadata": {
    "collapsed": false
   },
   "outputs": [],
   "source": [
    "k = 3\n",
    "\n",
    "def chooseCentroids(k,points):\n",
    "    centroids = random.sample(points,k)\n",
    "    print(centroids)\n",
    "\n",
    "    cluster_keeper = {}\n",
    "    for c in centroids:\n",
    "        cluster_keeper[c] = []\n",
    "    return cluster_keeper\n",
    "\n",
    "def edist(p1,p2):\n",
    "    tot = 0\n",
    "    for i in range(len(p1)):\n",
    "        diff = (p1[i]-p2[i])**2\n",
    "        tot = tot + diff\n",
    "    return math.sqrt(tot)\n",
    "\n",
    "def createClusters(k, points, ck, it):\n",
    "    for i in range(it):\n",
    "        for p in points:\n",
    "            minC = None\n",
    "            minD = 99999\n",
    "            for c in ck:\n",
    "                dist = edist(c,p)\n",
    "                if dist < minD:\n",
    "                    minC = c\n",
    "                    minD = dist\n",
    "            ck[minC].append(p)\n",
    "        newck = {}\n",
    "        for k in ck:\n",
    "            x = sum([x[0] for x in ck[k]])/len(ck[k])\n",
    "            y = sum([x[1] for x in ck[k]])/len(ck[k])\n",
    "            newck[(x,y)] = []\n",
    "        if i < it-1:\n",
    "            ck = newck\n",
    "\n",
    "    return ck\n"
   ]
  },
  {
   "cell_type": "code",
   "execution_count": 9,
   "metadata": {
    "collapsed": false
   },
   "outputs": [
    {
     "name": "stdout",
     "output_type": "stream",
     "text": [
      "[(20, 25), (4, 16), (11, 9)]\n",
      "{(18.5, 21.9): [(16, 21), (19, 23), (20, 23), (21, 20), (19, 20), (20, 23), (20, 25), (15, 23), (16, 21), (19, 20)], (4.0, 17.6): [(1, 20), (6, 20), (7, 15), (4, 16), (4, 19), (1, 15), (3, 19), (3, 17), (7, 17), (4, 18)], (8.5, 7.7): [(11, 6), (10, 5), (6, 10), (9, 5), (7, 8), (6, 5), (6, 9), (10, 10), (11, 9), (9, 10)]}\n"
     ]
    },
    {
     "data": {
      "image/png": "[encoded data removed]",
      "text/plain": [
       "<matplotlib.figure.Figure at 0x7f4903f60160>"
      ]
     },
     "metadata": {},
     "output_type": "display_data"
    }
   ],
   "source": [
    "ck = createClusters(k,points,chooseCentroids(k,points),14)\n",
    "print(ck)\n",
    "clrs = 'rgbyp'\n",
    "\n",
    "for i,k in enumerate(ck):\n",
    "    plt.scatter(k[0],k[1],c=clrs[i],marker='x')\n",
    "    plt.scatter([x[0] for x in ck[k]],[x[1] for x in ck[k]],c=clrs[i],marker='o')\n",
    "\n",
    "plt.show()\n"
   ]
  },
  {
   "cell_type": "markdown",
   "metadata": {},
   "source": [
    "## Or from SciKit Learn"
   ]
  },
  {
   "cell_type": "code",
   "execution_count": 14,
   "metadata": {
    "collapsed": false
   },
   "outputs": [
    {
     "data": {
      "text/plain": [
       "array([0, 1, 2, 0, 1, 2, 0, 1, 2, 0, 1, 2, 0, 1, 2, 0, 1, 2, 0, 1, 2, 0, 1,\n",
       "       2, 0, 1, 2, 0, 1, 2], dtype=int32)"
      ]
     },
     "execution_count": 14,
     "metadata": {},
     "output_type": "execute_result"
    },
    {
     "data": {
      "image/png": "[encoded data removed]",
      "text/plain": [
       "<matplotlib.figure.Figure at 0x7f48e550ca90>"
      ]
     },
     "metadata": {},
     "output_type": "display_data"
    }
   ],
   "source": [
    "from sklearn.cluster import KMeans\n",
    "kmm = KMeans(3,n_init=30)\n",
    "kmm.fit(points)\n",
    "kmm_label = kmm.predict(points)\n",
    "plt.scatter([x[0] for x in points], [x[1] for x in points], c=kmm_label)\n",
    "kmm_label"
   ]
  },
  {
   "cell_type": "markdown",
   "metadata": {},
   "source": [
    "## Two projects\n",
    "\n",
    "1.  Try the hand coded algorithm on the iris data.  Compare and figure out how well it clusters the different varieties of iris into the correct cluster.\n",
    "2.  In image processing\n",
    "\n",
    "    1.  Choose an image\n",
    "    2.  Apply KMeans clustering to the color tuples\n",
    "    3.  display the original image\n",
    "    4.  create a new image using the centroids to stand in for the colors you chose.\n"
   ]
  },
  {
   "cell_type": "code",
   "execution_count": 21,
   "metadata": {
    "collapsed": false
   },
   "outputs": [],
   "source": [
    "from PIL import Image\n",
    "im = Image.open('delta.png')\n",
    "\n",
    "pixels = list(im.getdata())\n",
    "\n",
    "#width, height = im.size\n",
    "#pixels = [pixels[i * width:(i + 1) * width] for i in xrange(height)]"
   ]
  },
  {
   "cell_type": "markdown",
   "metadata": {},
   "source": [
    "## Now reshape the data and use plt.imshow"
   ]
  }
 ],
 "metadata": {
  "kernelspec": {
   "display_name": "Python 3",
   "language": "python",
   "name": "python3"
  },
  "language_info": {
   "codemirror_mode": {
    "name": "ipython",
    "version": 3
   },
   "file_extension": ".py",
   "mimetype": "text/x-python",
   "name": "python",
   "nbconvert_exporter": "python",
   "pygments_lexer": "ipython3",
   "version": "3.4.3"
  }
 },
 "nbformat": 4,
 "nbformat_minor": 0
}
