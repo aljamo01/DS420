{
 "cells": [
  {
   "cell_type": "code",
   "execution_count": null,
   "metadata": {
    "collapsed": true,
    "deletable": true,
    "editable": true
   },
   "outputs": [],
   "source": []
  },
  {
   "cell_type": "markdown",
   "metadata": {
    "deletable": true,
    "editable": true
   },
   "source": [
    "## Linear Regression\n"
   ]
  },
  {
   "cell_type": "markdown",
   "metadata": {
    "deletable": true,
    "editable": true
   },
   "source": [
    "### Pizza Price Predictor\n",
    "* predict the price of a pizza by looking at the diameter"
   ]
  },
  {
   "cell_type": "markdown",
   "metadata": {
    "deletable": true,
    "editable": true
   },
   "source": [
    "Recall that the equation for a line is $y = mx + b$.  Given a set of points (x,y) we are looking to find $m$ and $b$ by finding the best fit to the given set of points.\n",
    "\n"
   ]
  },
  {
   "cell_type": "code",
   "execution_count": 3,
   "metadata": {
    "collapsed": false,
    "deletable": true,
    "editable": true
   },
   "outputs": [
    {
     "data": {
      "text/plain": [
       "<matplotlib.text.Text at 0x7ff39d282e80>"
      ]
     },
     "execution_count": 3,
     "metadata": {},
     "output_type": "execute_result"
    },
    {
     "name": "stderr",
     "output_type": "stream",
     "text": [
      "/usr/local/lib/python3.4/dist-packages/matplotlib/collections.py:590: FutureWarning: elementwise comparison failed; returning scalar instead, but in the future will perform elementwise comparison\n",
      "  if self._edgecolors == str('face'):\n"
     ]
    },
    {
     "data": {
      "image/png": "[encoded data removed]",
      "text/plain": [
       "<matplotlib.figure.Figure at 0x7ff3bd8da208>"
      ]
     },
     "metadata": {},
     "output_type": "display_data"
    }
   ],
   "source": [
    "%matplotlib inline\n",
    "import pandas as pd\n",
    "import numpy as np\n",
    "import matplotlib.pyplot as plt\n",
    "\n",
    "pizza_diams = np.array([6,8,10,14,18])\n",
    "pizza_price = np.array([7,9,13,17.5,18])\n",
    "plt.scatter(pizza_diams, pizza_price)\n",
    "plt.xlabel('Diameter')\n",
    "plt.ylabel('price')"
   ]
  },
  {
   "cell_type": "markdown",
   "metadata": {
    "deletable": true,
    "editable": true
   },
   "source": [
    "The variance is a measure of how much a set of values are spread out.\n",
    "\n",
    "$var(x) = \\frac{\\sum{(x_i-\\bar{x})^2}}{n-1}$\n",
    "\n",
    "The covariance is a measure of how much two variables change together\n",
    "\n",
    "$cov(x,y) = \\frac{\\sum{(x_i-\\bar{x})(y_i-\\bar{y})}}{n-1}$\n",
    "\n",
    "But, $m = \\frac{cov(x,y)}{var(x)}$\n",
    "\n",
    "and\n",
    "\n",
    "$b = \\bar{y}-m\\bar{x}$\n",
    "\n",
    "    pizza_diams = np.array([6,8,10,14,18])\n",
    "    pizza_price = np.array([7,9,13,17.5,18])\n",
    "    "
   ]
  },
  {
   "cell_type": "code",
   "execution_count": 5,
   "metadata": {
    "collapsed": false,
    "deletable": true,
    "editable": true
   },
   "outputs": [
    {
     "data": {
      "text/plain": [
       "23.199999999999999"
      ]
     },
     "execution_count": 5,
     "metadata": {},
     "output_type": "execute_result"
    }
   ],
   "source": [
    "np.var(pizza_diams,ddof=1)"
   ]
  },
  {
   "cell_type": "code",
   "execution_count": 31,
   "metadata": {
    "collapsed": false,
    "deletable": true,
    "editable": true
   },
   "outputs": [],
   "source": [
    "m = .9763\n",
    "b = 1.965\n",
    "xvals = np.arange(4,20,1)"
   ]
  },
  {
   "cell_type": "code",
   "execution_count": 32,
   "metadata": {
    "collapsed": false,
    "deletable": true,
    "editable": true
   },
   "outputs": [
    {
     "data": {
      "text/plain": [
       "<matplotlib.text.Text at 0x7ff39cfce908>"
      ]
     },
     "execution_count": 32,
     "metadata": {},
     "output_type": "execute_result"
    },
    {
     "name": "stderr",
     "output_type": "stream",
     "text": [
      "/usr/local/lib/python3.4/dist-packages/matplotlib/collections.py:590: FutureWarning: elementwise comparison failed; returning scalar instead, but in the future will perform elementwise comparison\n",
      "  if self._edgecolors == str('face'):\n"
     ]
    },
    {
     "data": {
      "image/png": "[encoded data removed]",
      "text/plain": [
       "<matplotlib.figure.Figure at 0x7ff393984ac8>"
      ]
     },
     "metadata": {},
     "output_type": "display_data"
    }
   ],
   "source": [
    "pizza_diams = np.array([6,8,10,14,18])\n",
    "pizza_price = np.array([7,9,13,17.5,18])\n",
    "plt.scatter(pizza_diams, pizza_price)\n",
    "plt.plot(xvals,m*xvals+b)\n",
    "plt.xlabel('Diameter')\n",
    "plt.ylabel('price')"
   ]
  },
  {
   "cell_type": "code",
   "execution_count": 60,
   "metadata": {
    "collapsed": false,
    "deletable": true,
    "editable": true
   },
   "outputs": [
    {
     "name": "stdout",
     "output_type": "stream",
     "text": [
      "[[ 0.9762931]] [ 1.96551724]\n",
      "[[ 6]\n",
      " [ 8]\n",
      " [10]\n",
      " [14]\n",
      " [18]]\n"
     ]
    }
   ],
   "source": [
    "from sklearn.linear_model import LinearRegression\n",
    "#pizza_diams_m = np.array([[6],[8],[10],[14],[18]])\n",
    "pizza_diams_m = pizza_diams.reshape(5,1)\n",
    "pizza_price_m = pizza_price.reshape(5,1)\n",
    "rgm = LinearRegression()\n",
    "rgm.fit(pizza_diams_m,pizza_price_m)\n",
    "print(rgm.coef_,rgm.intercept_)\n",
    "print(pizza_diams_m)"
   ]
  },
  {
   "cell_type": "code",
   "execution_count": 34,
   "metadata": {
    "collapsed": false,
    "deletable": true,
    "editable": true
   },
   "outputs": [],
   "source": [
    "pvals = rgm.predict([[i] for i in range(1,21)])"
   ]
  },
  {
   "cell_type": "code",
   "execution_count": 41,
   "metadata": {
    "collapsed": false,
    "deletable": true,
    "editable": true
   },
   "outputs": [
    {
     "data": {
      "text/plain": [
       "[<matplotlib.lines.Line2D at 0x7ff39d127ac8>]"
      ]
     },
     "execution_count": 41,
     "metadata": {},
     "output_type": "execute_result"
    },
    {
     "name": "stderr",
     "output_type": "stream",
     "text": [
      "/usr/local/lib/python3.4/dist-packages/matplotlib/collections.py:590: FutureWarning: elementwise comparison failed; returning scalar instead, but in the future will perform elementwise comparison\n",
      "  if self._edgecolors == str('face'):\n"
     ]
    },
    {
     "data": {
      "image/png": "[encoded data removed]",
      "text/plain": [
       "<matplotlib.figure.Figure at 0x7ff39d127ba8>"
      ]
     },
     "metadata": {},
     "output_type": "display_data"
    }
   ],
   "source": [
    "plt.scatter(pizza_diams, pizza_price)\n",
    "plt.plot([i for i in range(1,21)],pvals.ravel())"
   ]
  },
  {
   "cell_type": "markdown",
   "metadata": {
    "deletable": true,
    "editable": true
   },
   "source": [
    "### Calculating the error of a regression?\n",
    "\n",
    "* Mean Absolute Error\n",
    "* Mean Squared Error\n",
    "* r-squared -- the proportion of the variance in the response variable that is explained by the model\n",
    "\n",
    "$\\frac{SS_{res}}{SS_{tot}}$\n",
    "\n",
    "$r^2 = 1 - \\frac{\\sum{(y_i-f(x_i))^2}}{\\sum{(y_i-\\bar{y})^2}}$\n",
    "\n",
    "Scikit learn calculates it differently than the square of pearsons r value.   Some define pearsons correlation as the covariance divided by the standard deviation of x * standard deviation of y\n",
    "\n",
    "![](http://www.socscistatistics.com/images/pearson.png)"
   ]
  },
  {
   "cell_type": "markdown",
   "metadata": {
    "deletable": true,
    "editable": true
   },
   "source": [
    "## Standard Deviation\n",
    "\n",
    "The standard deviation is the square root of the variance.  Its nicer in some ways because the units are the same as the mean.\n",
    "\n",
    "$std(x) = \\sqrt{\\frac{\\sum{(x_i-\\bar{x})^2}}{N-1}}$"
   ]
  },
  {
   "cell_type": "code",
   "execution_count": 56,
   "metadata": {
    "collapsed": false,
    "deletable": true,
    "editable": true
   },
   "outputs": [
    {
     "data": {
      "text/plain": [
       "0.6620052929422553"
      ]
     },
     "execution_count": 56,
     "metadata": {},
     "output_type": "execute_result"
    }
   ],
   "source": [
    "rgm.score(pizza_diams_m,pizza_price_m)\n",
    "X_test = np.array([8,9,11,16,12]).reshape(5,1)\n",
    "Y_test = np.array([11,8.5,15,18,11]).reshape(5,1)\n",
    "rgm.score(X_test,Y_test)"
   ]
  },
  {
   "cell_type": "markdown",
   "metadata": {
    "deletable": true,
    "editable": true
   },
   "source": [
    "### Linear regression generalizes to mulitple dimensions\n"
   ]
  },
  {
   "cell_type": "markdown",
   "metadata": {
    "deletable": true,
    "editable": true
   },
   "source": [
    "Suppose we add the number of toppings to the model\n",
    "\n"
   ]
  },
  {
   "cell_type": "code",
   "execution_count": 64,
   "metadata": {
    "collapsed": false,
    "deletable": true,
    "editable": true
   },
   "outputs": [],
   "source": [
    "pizza_features = np.array([[6,2],[8,1],[10,0],[14,2],[18,0]])\n",
    "trgm = LinearRegression()\n",
    "trgm.fit(pizza_features,pizza_price_m)\n",
    "tpvals = trgm.predict(pizza_features)\n"
   ]
  },
  {
   "cell_type": "code",
   "execution_count": 65,
   "metadata": {
    "collapsed": false,
    "deletable": true,
    "editable": true
   },
   "outputs": [
    {
     "data": {
      "text/plain": [
       "0.77016777313184681"
      ]
     },
     "execution_count": 65,
     "metadata": {},
     "output_type": "execute_result"
    }
   ],
   "source": [
    "tX_test = np.array([[8,2],[9,0],[11,2],[16,2],[12,0]])\n",
    "trgm.score(tX_test,Y_test)"
   ]
  },
  {
   "cell_type": "markdown",
   "metadata": {
    "deletable": true,
    "editable": true
   },
   "source": [
    "### Try this out in even higher dimensions on the boston house pricing dataset in scikit learn\n",
    "\n",
    "* http://bigdataexaminer.com/uncategorized/how-to-run-linear-regression-in-python-scikit-learn/\n",
    "\n"
   ]
  },
  {
   "cell_type": "code",
   "execution_count": null,
   "metadata": {
    "collapsed": true,
    "deletable": true,
    "editable": true
   },
   "outputs": [],
   "source": []
  },
  {
   "cell_type": "code",
   "execution_count": null,
   "metadata": {
    "collapsed": true,
    "deletable": true,
    "editable": true
   },
   "outputs": [],
   "source": []
  },
  {
   "cell_type": "code",
   "execution_count": null,
   "metadata": {
    "collapsed": true,
    "deletable": true,
    "editable": true
   },
   "outputs": [],
   "source": []
  },
  {
   "cell_type": "code",
   "execution_count": null,
   "metadata": {
    "collapsed": true,
    "deletable": true,
    "editable": true
   },
   "outputs": [],
   "source": []
  }
 ],
 "metadata": {
  "celltoolbar": "Slideshow",
  "kernelspec": {
   "display_name": "Python 3",
   "language": "python",
   "name": "python3"
  },
  "language_info": {
   "codemirror_mode": {
    "name": "ipython",
    "version": 3
   },
   "file_extension": ".py",
   "mimetype": "text/x-python",
   "name": "python",
   "nbconvert_exporter": "python",
   "pygments_lexer": "ipython3",
   "version": "3.5.1"
  }
 },
 "nbformat": 4,
 "nbformat_minor": 0
}
