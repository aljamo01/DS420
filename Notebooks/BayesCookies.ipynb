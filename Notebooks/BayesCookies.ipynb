{
 "cells": [
  {
   "cell_type": "markdown",
   "metadata": {},
   "source": [
    "# Bayes and the Cookie Problem"
   ]
  },
  {
   "cell_type": "code",
   "execution_count": null,
   "metadata": {
    "collapsed": true
   },
   "outputs": [],
   "source": []
  },
  {
   "cell_type": "markdown",
   "metadata": {},
   "source": [
    "“Suppose you have two bowls of cookies. Bowl 1 contains 30 Vanilla cookies and 10 chocolate chip cookies. Bowl 2 contains 20 of each.\n",
    "Now suppose you choose one of the bowls at random and, without looking, select a cookie at random. The cookie is Vanilla. What is the probability that it came from Bowl 1?”\n",
    "\n",
    "Excerpt From: Allen B. Downey. “Think Bayes.” iBooks. "
   ]
  },
  {
   "cell_type": "markdown",
   "metadata": {},
   "source": [
    "$p(A\\ and\\ B) = p(B\\ and\\ A)$\n",
    "\n",
    "we can write this as a conditional probability\n",
    "\n",
    "$p(A\\ and\\ B) = p(A)p(B | A)$\n",
    "\n",
    "but also:\n",
    "\n",
    "$p(B\\ and\\ A) = p(B)p(A | B)$\n",
    "\n",
    "But since we agreed they are the same we can write\n",
    "\n",
    "$p(B)p(A|B) = p(A)p(B|A)$\n",
    "\n",
    "Now we have a powerful equality that we can use a little bit of algebra to solve for all kinds of situations.  Bayes theorem is  simply solving the above for $P(A|B)$"
   ]
  },
  {
   "cell_type": "markdown",
   "metadata": {},
   "source": [
    "## Bayes Theorem\n",
    "\n",
    "$P(A|B) = \\frac{P(A)P(B|A)}{P(B)}$"
   ]
  },
  {
   "cell_type": "markdown",
   "metadata": {},
   "source": [
    "Now lets put this into action using the substitution that:  A = Bowl1 and B = Vanilla\n",
    "\n",
    "Making the substutions gives us:\n",
    "\n",
    "$P(bowl1|vanilla) = \\frac{P(bowl1)P(vanilla|bowl1)}{P(vanilla)}$"
   ]
  },
  {
   "cell_type": "markdown",
   "metadata": {},
   "source": [
    "The above question uses a conditional probability we want the probability of bowl1 given that the cookie is vanilla $P(Bowl1 | Vanilla)$   \n",
    "\n",
    "But, What if we asked the question the other way around?  What is the probability that the cookie is vanilla given that the bowl is bowl1?  This is easy because we know the mix of cookies in bowl one is 30 + 10 = 40 cookies with a 30 out of 40 chance that we pick vanilla... So: $P(Vanilla | Bowl1) = .75$  \n",
    "\n",
    "\n",
    "However $P(A|B)$ is not the same as $P(B|A)$.  \n",
    "\n",
    "But we can get there using Bayes theorem."
   ]
  },
  {
   "cell_type": "markdown",
   "metadata": {},
   "source": [
    "So, what is $P(bowl1 | vanilla)$?   Lets put this into Bayes equation:  $P(bowl1 | vanilla) = \\frac{P(bowl1)P(vanilla | bowl1)}{P(vanilla)}$\n",
    "\n",
    "* P(bowl1) is the probability we choose bowl 1 which is .5\n",
    "* P(vanilla|bowl1) is the probabiltiy of choosing vanilla given that we choose from bowl 1 which is .75\n",
    "* P(vanilla) is the probability of choosing vanilla in general which since there are 50 vanilla and 30 chocoloate is 50/80 or .625\n"
   ]
  },
  {
   "cell_type": "code",
   "execution_count": 1,
   "metadata": {
    "collapsed": false
   },
   "outputs": [
    {
     "data": {
      "text/plain": [
       "0.6"
      ]
     },
     "execution_count": 1,
     "metadata": {},
     "output_type": "execute_result"
    }
   ],
   "source": [
    "(.5 * .75) / .625"
   ]
  },
  {
   "cell_type": "markdown",
   "metadata": {},
   "source": [
    "### The diachronic interpretation\n",
    "\n",
    "The probability of some Hypothesis given some body of Data\n",
    "\n",
    "$P(H|D) = \\frac{P(H)P(D|H)}{P(D)}$\n",
    "\n",
    "\n",
    "* P(H) - probability of the hypothesis before we see data **prior**\n",
    "* P(H|D) - What we want to know/compute **posterior**\n",
    "* P(D|H) - The probability of the data under the hypothesis **likelihood**\n",
    "* P(D) - The probability of the data under any hypothesis **normalizing constant**\n",
    "\n",
    "\n",
    "For example the prior in our cookie situtaion is that it is bowl 1 which before we know anything is 50-50."
   ]
  },
  {
   "cell_type": "markdown",
   "metadata": {},
   "source": [
    "### The Montey Hall Problem\n",
    "\n",
    "* [Big Deal of the Day](https://www.youtube.com/watch?v=T5QYTrDReTo)\n",
    "* [Explained](https://www.youtube.com/watch?v=mhlc7peGlGg)\n",
    "\n"
   ]
  },
  {
   "cell_type": "markdown",
   "metadata": {},
   "source": [
    "#### A quick simulation"
   ]
  },
  {
   "cell_type": "code",
   "execution_count": 4,
   "metadata": {
    "collapsed": false
   },
   "outputs": [
    {
     "name": "stdout",
     "output_type": "stream",
     "text": [
      "Total Wins =  333517\n",
      "Total Losses =  666483\n",
      "Winning Percentage =  0.333517\n"
     ]
    }
   ],
   "source": [
    "# Always Keep the original door\n",
    "import random\n",
    "wins = 0\n",
    "losses = 0\n",
    "trials = 1000000\n",
    "for i in range(trials):\n",
    "\n",
    "    winner = random.randint(0,2)\n",
    "    doors = [False, False, False]\n",
    "    doors[winner] = True\n",
    "    \n",
    "    pick = random.randint(0,2)\n",
    "    \n",
    "    if doors[pick]:\n",
    "        wins = wins + 1\n",
    "    else:\n",
    "        losses = losses + 1\n",
    "\n",
    "print(\"Total Wins = \", wins)\n",
    "print(\"Total Losses = \", losses)\n",
    "print(\"Winning Percentage = \", float(wins) / trials)\n"
   ]
  },
  {
   "cell_type": "code",
   "execution_count": 5,
   "metadata": {
    "collapsed": false
   },
   "outputs": [
    {
     "name": "stdout",
     "output_type": "stream",
     "text": [
      "Total Wins =  666013\n",
      "Total Losses =  333987\n",
      "Winning Percentage =  0.666013\n"
     ]
    }
   ],
   "source": [
    "# this loop illustrates the case where the contestant always swaps\n",
    "# In this case the only time you lose is if you picked the right door the first time.\n",
    "wins = 0\n",
    "losses = 0\n",
    "trials = 1000000\n",
    "for i in range(trials):\n",
    "\n",
    "    winner = random.randint(0,2)\n",
    "    doors = [False, False, False]\n",
    "    doors[winner] = True\n",
    "    \n",
    "    pick = random.randint(0,2)\n",
    "    \n",
    "    if doors[pick]:\n",
    "        losses = losses + 1\n",
    "    else:\n",
    "        wins = wins + 1\n",
    "\n",
    "print(\"Total Wins = \", wins)\n",
    "print(\"Total Losses = \", losses)\n",
    "print(\"Winning Percentage = \", float(wins) / trials)\n"
   ]
  },
  {
   "cell_type": "markdown",
   "metadata": {},
   "source": [
    "### A Bayesian Classifier\n",
    "\n",
    "* Classic example is Spam Filtering\n",
    "* https://en.wikipedia.org/wiki/Naive_Bayes_spam_filtering\n"
   ]
  },
  {
   "cell_type": "markdown",
   "metadata": {
    "collapsed": true
   },
   "source": [
    "## Asking the right question\n",
    "\n",
    "* What is the probability that this message is spam given that it contains a particular word.  For example:  What is the probability that this message is spam if it contains the word viagra?\n",
    "\n",
    "$ P(Spam|viagra) = \\frac{P(Spam)P(viagra|Spam)}{P(viagra)}$\n",
    "\n",
    "\n",
    "* But emails contain lots of words....\n",
    "\n",
    "\n",
    "$p = \\frac{p_1p_2...p_n}{p_1p_2p_n + (1-p_1)(1-p_2)...(1-p_n)}$\n",
    "\n",
    "Where\n",
    "\n",
    "* $p_1$ is the probability that the message is spam given that it contains word 1\n",
    "* $p_2$ is the probability that the message is spam given that it contains word 2\n",
    "* $p_n$ is the probability that the message is spam given that it contains word n\n",
    "\n",
    "* $(1-p_1)$ is the probability that the message is not spam given word 1\n"
   ]
  }
 ],
 "metadata": {
  "kernelspec": {
   "display_name": "Python 3",
   "language": "python",
   "name": "python3"
  },
  "language_info": {
   "codemirror_mode": {
    "name": "ipython",
    "version": 3
   },
   "file_extension": ".py",
   "mimetype": "text/x-python",
   "name": "python",
   "nbconvert_exporter": "python",
   "pygments_lexer": "ipython3",
   "version": "3.5.1"
  }
 },
 "nbformat": 4,
 "nbformat_minor": 0
}
