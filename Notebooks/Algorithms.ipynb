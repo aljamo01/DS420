{
 "cells": [
  {
   "cell_type": "code",
   "execution_count": 1,
   "metadata": {
    "collapsed": true
   },
   "outputs": [],
   "source": [
    "%matplotlib inline\n",
    "import numpy as np\n",
    "import matplotlib.pyplot as plt"
   ]
  },
  {
   "cell_type": "markdown",
   "metadata": {},
   "source": [
    "## Linear Regression\n",
    "\n",
    "* Uses the \"Normal Equation\" to minimize the MSE cost -- Closed form solution to multidimensional regression\n",
    "\n",
    "$$\\hat{\\theta} = (X^T \\cdot X)^{-1} \\cdot X^T \\cdot y$$"
   ]
  },
  {
   "cell_type": "code",
   "execution_count": 12,
   "metadata": {
    "collapsed": false
   },
   "outputs": [],
   "source": [
    "X = 2 * np.random.rand(100,1)\n",
    "y = 4 + 3 * X + np.random.randn(100,1)"
   ]
  },
  {
   "cell_type": "code",
   "execution_count": 13,
   "metadata": {
    "collapsed": false
   },
   "outputs": [
    {
     "data": {
      "text/plain": [
       "<matplotlib.collections.PathCollection at 0x7f4e232269e8>"
      ]
     },
     "execution_count": 13,
     "metadata": {},
     "output_type": "execute_result"
    },
    {
     "data": {
      "image/png": "[encoded data removed]",
      "text/plain": [
       "<matplotlib.figure.Figure at 0x7f4e232bf7f0>"
      ]
     },
     "metadata": {},
     "output_type": "display_data"
    }
   ],
   "source": [
    "plt.scatter(X,y)"
   ]
  },
  {
   "cell_type": "markdown",
   "metadata": {},
   "source": [
    "We can use numpy to do the heavy matrix work:\n",
    "\n",
    "- .T  -- transpose the matrix\n",
    "- LA.inv() compute the inverse of the matrix\n",
    "- dot -- dot product\n",
    "- @ is matrix multiplication\n",
    "\n",
    "Matrix Multiplication:\n",
    "\n",
    "1. Make sure that the the number of columns in the 1st one equals the number of rows in the 2nd one. ...\n",
    "2. Multiply the elements of each row of the first matrix by the elements of each column in the second matrix.\n",
    "3. Add the products\n",
    "\n",
    "\n",
    "To demonstrate that this ends up in the same form as y = mx + b for the line lets work it through\n"
   ]
  },
  {
   "cell_type": "code",
   "execution_count": 52,
   "metadata": {
    "collapsed": false
   },
   "outputs": [
    {
     "data": {
      "text/plain": [
       "array([[ 1.        ,  1.62371463],\n",
       "       [ 1.        ,  0.44606002],\n",
       "       [ 1.        ,  1.82650091],\n",
       "       [ 1.        ,  0.79461871],\n",
       "       [ 1.        ,  1.86307204]])"
      ]
     },
     "execution_count": 52,
     "metadata": {},
     "output_type": "execute_result"
    }
   ],
   "source": [
    "c = 2 * np.random.rand(5,1)\n",
    "c = np.c_[np.ones((5,1)),c]\n",
    "c"
   ]
  },
  {
   "cell_type": "code",
   "execution_count": 53,
   "metadata": {
    "collapsed": false
   },
   "outputs": [
    {
     "data": {
      "text/plain": [
       "array([[ 1.        ,  1.        ,  1.        ,  1.        ,  1.        ],\n",
       "       [ 1.62371463,  0.44606002,  1.82650091,  0.79461871,  1.86307204]])"
      ]
     },
     "execution_count": 53,
     "metadata": {},
     "output_type": "execute_result"
    }
   ],
   "source": [
    "c.T"
   ]
  },
  {
   "cell_type": "code",
   "execution_count": 54,
   "metadata": {
    "collapsed": false
   },
   "outputs": [
    {
     "data": {
      "text/plain": [
       "array([[ 0.9319458 ,  0.05382823,  0.07384743,  0.16344229,  0.77484881],\n",
       "       [ 0.99723713,  0.5450973 ,  0.8896208 ,  0.37685114,  0.93554574]])"
      ]
     },
     "execution_count": 54,
     "metadata": {},
     "output_type": "execute_result"
    }
   ],
   "source": [
    "d = np.random.rand(10,1)\n",
    "d = d.reshape(2,5)\n",
    "d"
   ]
  },
  {
   "cell_type": "code",
   "execution_count": 56,
   "metadata": {
    "collapsed": false
   },
   "outputs": [
    {
     "data": {
      "text/plain": [
       "array([[ 2.55117431,  0.93891069,  1.51833773,  0.775341  ,  2.29390812],\n",
       "       [ 1.37677342,  0.29697434,  0.4706717 ,  0.33154052,  1.19215837],\n",
       "       [ 2.75340033,  1.04944895,  1.69874063,  0.85176124,  2.48362397],\n",
       "       [ 1.72436909,  0.48697275,  0.78075676,  0.46289526,  1.51825097],\n",
       "       [ 2.78987041,  1.06938377,  1.73127506,  0.86554311,  2.51783793]])"
      ]
     },
     "execution_count": 56,
     "metadata": {},
     "output_type": "execute_result"
    }
   ],
   "source": [
    "c @ d"
   ]
  },
  {
   "cell_type": "code",
   "execution_count": 59,
   "metadata": {
    "collapsed": false
   },
   "outputs": [
    {
     "data": {
      "text/plain": [
       "array([[ -1.11772474e+17,   8.56700075e+16,   1.17319724e+17,\n",
       "         -9.25940065e+16,   1.37674917e+15],\n",
       "       [ -1.37798934e+17,   1.08279973e+17,   1.54440546e+17,\n",
       "         -1.18020028e+17,  -6.90155722e+15],\n",
       "       [ -5.54289185e+15,   9.36288637e+14,  -0.00000000e+00,\n",
       "         -0.00000000e+00,   4.60660321e+15],\n",
       "       [  3.13569310e+17,  -2.32689877e+17,  -3.29406144e+17,\n",
       "          2.49628094e+17,  -1.10138253e+15],\n",
       "       [  7.83923276e+16,  -6.15682669e+16,  -8.23515360e+16,\n",
       "          6.69106230e+16,  -1.38314767e+15]])"
      ]
     },
     "execution_count": 59,
     "metadata": {},
     "output_type": "execute_result"
    }
   ],
   "source": [
    "LA.inv(c@d)"
   ]
  },
  {
   "cell_type": "code",
   "execution_count": 60,
   "metadata": {
    "collapsed": false
   },
   "outputs": [],
   "source": [
    "import numpy.linalg as LA\n",
    "\n",
    "X_b = np.c_[np.ones((100,1)), X]  # add x0 = 1 to every row\n",
    "theta_best = LA.inv(X_b.T @ X_b) @ X_b.T @ y"
   ]
  },
  {
   "cell_type": "code",
   "execution_count": 41,
   "metadata": {
    "collapsed": false,
    "scrolled": true
   },
   "outputs": [
    {
     "data": {
      "text/plain": [
       "array([[ 1.        ,  0.54096215],\n",
       "       [ 1.        ,  1.83043428],\n",
       "       [ 1.        ,  1.25769062],\n",
       "       [ 1.        ,  0.66518659],\n",
       "       [ 1.        ,  0.58971912],\n",
       "       [ 1.        ,  0.20474713],\n",
       "       [ 1.        ,  0.56934391],\n",
       "       [ 1.        ,  0.53734236],\n",
       "       [ 1.        ,  1.50577662],\n",
       "       [ 1.        ,  1.54107525],\n",
       "       [ 1.        ,  0.26516215],\n",
       "       [ 1.        ,  1.66878507],\n",
       "       [ 1.        ,  0.70368938],\n",
       "       [ 1.        ,  1.59529954],\n",
       "       [ 1.        ,  1.61096254],\n",
       "       [ 1.        ,  1.85707557],\n",
       "       [ 1.        ,  0.14078357],\n",
       "       [ 1.        ,  0.10916349],\n",
       "       [ 1.        ,  1.06521928],\n",
       "       [ 1.        ,  1.3962432 ],\n",
       "       [ 1.        ,  0.01478615],\n",
       "       [ 1.        ,  1.0991356 ],\n",
       "       [ 1.        ,  0.49576977],\n",
       "       [ 1.        ,  1.28659085],\n",
       "       [ 1.        ,  1.13177879],\n",
       "       [ 1.        ,  0.51298135],\n",
       "       [ 1.        ,  0.65554357],\n",
       "       [ 1.        ,  0.16423958],\n",
       "       [ 1.        ,  0.94474856],\n",
       "       [ 1.        ,  0.60891845],\n",
       "       [ 1.        ,  0.23004783],\n",
       "       [ 1.        ,  0.50188327],\n",
       "       [ 1.        ,  0.17191772],\n",
       "       [ 1.        ,  1.51004769],\n",
       "       [ 1.        ,  0.98747229],\n",
       "       [ 1.        ,  0.77772105],\n",
       "       [ 1.        ,  0.58203125],\n",
       "       [ 1.        ,  1.90029085],\n",
       "       [ 1.        ,  1.38392487],\n",
       "       [ 1.        ,  1.89078339],\n",
       "       [ 1.        ,  1.13368671],\n",
       "       [ 1.        ,  0.39502452],\n",
       "       [ 1.        ,  0.89814508],\n",
       "       [ 1.        ,  1.59044711],\n",
       "       [ 1.        ,  0.62975334],\n",
       "       [ 1.        ,  1.46633892],\n",
       "       [ 1.        ,  1.82204131],\n",
       "       [ 1.        ,  1.47207794],\n",
       "       [ 1.        ,  1.85240278],\n",
       "       [ 1.        ,  1.45410244],\n",
       "       [ 1.        ,  1.48607384],\n",
       "       [ 1.        ,  1.62576506],\n",
       "       [ 1.        ,  0.09849019],\n",
       "       [ 1.        ,  0.5950301 ],\n",
       "       [ 1.        ,  0.22223207],\n",
       "       [ 1.        ,  1.7764753 ],\n",
       "       [ 1.        ,  1.15264433],\n",
       "       [ 1.        ,  1.51132914],\n",
       "       [ 1.        ,  1.31568844],\n",
       "       [ 1.        ,  0.14633563],\n",
       "       [ 1.        ,  0.51987452],\n",
       "       [ 1.        ,  1.42541148],\n",
       "       [ 1.        ,  1.70098613],\n",
       "       [ 1.        ,  0.98199422],\n",
       "       [ 1.        ,  0.96376072],\n",
       "       [ 1.        ,  0.15933848],\n",
       "       [ 1.        ,  1.59618661],\n",
       "       [ 1.        ,  1.58065792],\n",
       "       [ 1.        ,  0.8147767 ],\n",
       "       [ 1.        ,  1.4551435 ],\n",
       "       [ 1.        ,  0.01973671],\n",
       "       [ 1.        ,  1.212832  ],\n",
       "       [ 1.        ,  1.32707687],\n",
       "       [ 1.        ,  1.42153091],\n",
       "       [ 1.        ,  1.69554393],\n",
       "       [ 1.        ,  0.50735619],\n",
       "       [ 1.        ,  0.29879758],\n",
       "       [ 1.        ,  0.21516027],\n",
       "       [ 1.        ,  1.30098738],\n",
       "       [ 1.        ,  1.19211969],\n",
       "       [ 1.        ,  1.4457195 ],\n",
       "       [ 1.        ,  1.20944705],\n",
       "       [ 1.        ,  1.28500039],\n",
       "       [ 1.        ,  1.31573116],\n",
       "       [ 1.        ,  0.13176302],\n",
       "       [ 1.        ,  1.59753952],\n",
       "       [ 1.        ,  0.86085542],\n",
       "       [ 1.        ,  1.02034195],\n",
       "       [ 1.        ,  1.75898211],\n",
       "       [ 1.        ,  0.73214771],\n",
       "       [ 1.        ,  0.96117258],\n",
       "       [ 1.        ,  0.30515236],\n",
       "       [ 1.        ,  1.5540182 ],\n",
       "       [ 1.        ,  1.93153493],\n",
       "       [ 1.        ,  0.72086453],\n",
       "       [ 1.        ,  1.01509666],\n",
       "       [ 1.        ,  0.74828888],\n",
       "       [ 1.        ,  1.93652675],\n",
       "       [ 1.        ,  0.12592019],\n",
       "       [ 1.        ,  1.4689337 ]])"
      ]
     },
     "execution_count": 41,
     "metadata": {},
     "output_type": "execute_result"
    }
   ],
   "source": [
    "X_b"
   ]
  },
  {
   "cell_type": "code",
   "execution_count": 42,
   "metadata": {
    "collapsed": false,
    "scrolled": false
   },
   "outputs": [
    {
     "data": {
      "text/plain": [
       "array([[ 1.        ,  1.        ,  1.        ,  1.        ,  1.        ,\n",
       "         1.        ,  1.        ,  1.        ,  1.        ,  1.        ,\n",
       "         1.        ,  1.        ,  1.        ,  1.        ,  1.        ,\n",
       "         1.        ,  1.        ,  1.        ,  1.        ,  1.        ,\n",
       "         1.        ,  1.        ,  1.        ,  1.        ,  1.        ,\n",
       "         1.        ,  1.        ,  1.        ,  1.        ,  1.        ,\n",
       "         1.        ,  1.        ,  1.        ,  1.        ,  1.        ,\n",
       "         1.        ,  1.        ,  1.        ,  1.        ,  1.        ,\n",
       "         1.        ,  1.        ,  1.        ,  1.        ,  1.        ,\n",
       "         1.        ,  1.        ,  1.        ,  1.        ,  1.        ,\n",
       "         1.        ,  1.        ,  1.        ,  1.        ,  1.        ,\n",
       "         1.        ,  1.        ,  1.        ,  1.        ,  1.        ,\n",
       "         1.        ,  1.        ,  1.        ,  1.        ,  1.        ,\n",
       "         1.        ,  1.        ,  1.        ,  1.        ,  1.        ,\n",
       "         1.        ,  1.        ,  1.        ,  1.        ,  1.        ,\n",
       "         1.        ,  1.        ,  1.        ,  1.        ,  1.        ,\n",
       "         1.        ,  1.        ,  1.        ,  1.        ,  1.        ,\n",
       "         1.        ,  1.        ,  1.        ,  1.        ,  1.        ,\n",
       "         1.        ,  1.        ,  1.        ,  1.        ,  1.        ,\n",
       "         1.        ,  1.        ,  1.        ,  1.        ,  1.        ],\n",
       "       [ 0.54096215,  1.83043428,  1.25769062,  0.66518659,  0.58971912,\n",
       "         0.20474713,  0.56934391,  0.53734236,  1.50577662,  1.54107525,\n",
       "         0.26516215,  1.66878507,  0.70368938,  1.59529954,  1.61096254,\n",
       "         1.85707557,  0.14078357,  0.10916349,  1.06521928,  1.3962432 ,\n",
       "         0.01478615,  1.0991356 ,  0.49576977,  1.28659085,  1.13177879,\n",
       "         0.51298135,  0.65554357,  0.16423958,  0.94474856,  0.60891845,\n",
       "         0.23004783,  0.50188327,  0.17191772,  1.51004769,  0.98747229,\n",
       "         0.77772105,  0.58203125,  1.90029085,  1.38392487,  1.89078339,\n",
       "         1.13368671,  0.39502452,  0.89814508,  1.59044711,  0.62975334,\n",
       "         1.46633892,  1.82204131,  1.47207794,  1.85240278,  1.45410244,\n",
       "         1.48607384,  1.62576506,  0.09849019,  0.5950301 ,  0.22223207,\n",
       "         1.7764753 ,  1.15264433,  1.51132914,  1.31568844,  0.14633563,\n",
       "         0.51987452,  1.42541148,  1.70098613,  0.98199422,  0.96376072,\n",
       "         0.15933848,  1.59618661,  1.58065792,  0.8147767 ,  1.4551435 ,\n",
       "         0.01973671,  1.212832  ,  1.32707687,  1.42153091,  1.69554393,\n",
       "         0.50735619,  0.29879758,  0.21516027,  1.30098738,  1.19211969,\n",
       "         1.4457195 ,  1.20944705,  1.28500039,  1.31573116,  0.13176302,\n",
       "         1.59753952,  0.86085542,  1.02034195,  1.75898211,  0.73214771,\n",
       "         0.96117258,  0.30515236,  1.5540182 ,  1.93153493,  0.72086453,\n",
       "         1.01509666,  0.74828888,  1.93652675,  0.12592019,  1.4689337 ]])"
      ]
     },
     "execution_count": 42,
     "metadata": {},
     "output_type": "execute_result"
    }
   ],
   "source": [
    "X_b.T"
   ]
  },
  {
   "cell_type": "code",
   "execution_count": 43,
   "metadata": {
    "collapsed": false
   },
   "outputs": [
    {
     "data": {
      "text/plain": [
       "array([[ 100.        ,  101.66366734],\n",
       "       [ 101.66366734,  135.20810662]])"
      ]
     },
     "execution_count": 43,
     "metadata": {},
     "output_type": "execute_result"
    }
   ],
   "source": [
    "X_b.T @ X_b "
   ]
  },
  {
   "cell_type": "code",
   "execution_count": 21,
   "metadata": {
    "collapsed": false
   },
   "outputs": [
    {
     "data": {
      "text/plain": [
       "array([[ 0.0424474 , -0.03191642],\n",
       "       [-0.03191642,  0.03139412]])"
      ]
     },
     "execution_count": 21,
     "metadata": {},
     "output_type": "execute_result"
    }
   ],
   "source": [
    "LA.inv(X_b.T.dot(X_b))"
   ]
  },
  {
   "cell_type": "code",
   "execution_count": 22,
   "metadata": {
    "collapsed": false
   },
   "outputs": [
    {
     "data": {
      "text/plain": [
       "array([[ 3.53468109],\n",
       "       [ 3.26227112]])"
      ]
     },
     "execution_count": 22,
     "metadata": {},
     "output_type": "execute_result"
    }
   ],
   "source": [
    "LA.inv(X_b.T.dot(X_b)).dot(X_b.T).dot(y)"
   ]
  },
  {
   "cell_type": "code",
   "execution_count": 40,
   "metadata": {
    "collapsed": false
   },
   "outputs": [
    {
     "data": {
      "text/plain": [
       "[<matplotlib.lines.Line2D at 0x7f4e22d28550>]"
      ]
     },
     "execution_count": 40,
     "metadata": {},
     "output_type": "execute_result"
    },
    {
     "data": {
      "image/png": "[encoded data removed]",
      "text/plain": [
       "<matplotlib.figure.Figure at 0x7f4e22d28518>"
      ]
     },
     "metadata": {},
     "output_type": "display_data"
    }
   ],
   "source": [
    "plt.scatter(X,y)\n",
    "m = theta_best[1]\n",
    "b = theta_best[0]\n",
    "plt.plot(np.arange(0,2,.01), m*np.arange(0,2,.01)+b,c='red')\n"
   ]
  },
  {
   "cell_type": "markdown",
   "metadata": {},
   "source": [
    "## Well, that was interesting and handy if you ever need it\n",
    "\n",
    "* You can do the same thing in 2 d with\n",
    "\n",
    "$$y = \\bar{y} + m(x = \\bar{x})$$\n",
    "$$m \\frac{\\sum{x_iy_i - n \\bar{x}\\bar{y}}}{\\sum{x^2_i - n \\bar{x}^2}}$$\n",
    "\n",
    "I'm sure there is a derivation to show one is equivalent to the other."
   ]
  },
  {
   "cell_type": "code",
   "execution_count": null,
   "metadata": {
    "collapsed": true
   },
   "outputs": [],
   "source": []
  }
 ],
 "metadata": {
  "kernelspec": {
   "display_name": "Python 3",
   "language": "python",
   "name": "python3"
  },
  "language_info": {
   "codemirror_mode": {
    "name": "ipython",
    "version": 3
   },
   "file_extension": ".py",
   "mimetype": "text/x-python",
   "name": "python",
   "nbconvert_exporter": "python",
   "pygments_lexer": "ipython3",
   "version": "3.5.1"
  }
 },
 "nbformat": 4,
 "nbformat_minor": 2
}
