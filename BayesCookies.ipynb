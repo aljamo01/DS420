{
 "cells": [
  {
   "cell_type": "markdown",
   "metadata": {},
   "source": [
    "# Bayes and the Cookie Problem"
   ]
  },
  {
   "cell_type": "markdown",
   "metadata": {},
   "source": [
    "“Suppose you have two bowls of cookies. Bowl 1 contains 30 vanilla cookies and 10 chocolate cookies. Bowl 2 contains 20 of each.\n",
    "Now suppose you choose one of the bowls at random and, without looking, select a cookie at random. The cookie is vanilla. What is the probability that it came from Bowl 1?”\n",
    "\n",
    "Excerpt From: Allen B. Downey. “Think Bayes.” iBooks. "
   ]
  },
  {
   "cell_type": "markdown",
   "metadata": {},
   "source": [
    "The above question uses a conditional probability we want the probability of bowl1 given that the cookie is vanilla $P(Bowl1 | Vanilla)$   What if we asked the question the other way around?  What is the probability that the cookie is vanilly given that the bowl is bowl1?  This is easy $P(Vanilla | Bowl1) = .75$  However $P(A|B)$ is not the same as $P(B|A)$.  But we can get there using Bayes theorem."
   ]
  },
  {
   "cell_type": "markdown",
   "metadata": {},
   "source": [
    "## Bayes Theorem\n",
    "\n",
    "$P(A|B) = \\frac{P(A)P(B|A)}{P(B)}$"
   ]
  },
  {
   "cell_type": "markdown",
   "metadata": {},
   "source": [
    "So, what is $P(B1 | V)$?   Lets put this into Bayes equation:  $P(B1 | V) = \\frac{P(B1)P(V | B1)}{P(V)}$\n",
    "\n",
    "* P(B1) is the probability we choose bowl 1 which is .5\n",
    "* P(V|B1) is the probabiltiy of choosing vanilla given that we choose from bowl 1 which is .75\n",
    "* P(V) is the probability of choosing vanilla in general which since there are 50 vanilla and 30 chocoloate is 50/80 or .625\n"
   ]
  },
  {
   "cell_type": "code",
   "execution_count": 1,
   "metadata": {
    "collapsed": false
   },
   "outputs": [
    {
     "data": {
      "text/plain": [
       "0.6"
      ]
     },
     "execution_count": 1,
     "metadata": {},
     "output_type": "execute_result"
    }
   ],
   "source": [
    "(.5 * .75) / .625"
   ]
  },
  {
   "cell_type": "markdown",
   "metadata": {},
   "source": [
    "### Applying this to Spam"
   ]
  },
  {
   "cell_type": "markdown",
   "metadata": {
    "collapsed": true
   },
   "source": [
    "* https://en.wikipedia.org/wiki/Naive_Bayes_spam_filtering\n"
   ]
  }
 ],
 "metadata": {
  "kernelspec": {
   "display_name": "Python 3",
   "language": "python",
   "name": "python3"
  },
  "language_info": {
   "codemirror_mode": {
    "name": "ipython",
    "version": 3
   },
   "file_extension": ".py",
   "mimetype": "text/x-python",
   "name": "python",
   "nbconvert_exporter": "python",
   "pygments_lexer": "ipython3",
   "version": "3.4.3"
  }
 },
 "nbformat": 4,
 "nbformat_minor": 0
}
